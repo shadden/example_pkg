{
 "cells": [
  {
   "cell_type": "code",
   "execution_count": 1,
   "id": "db5b0a7e",
   "metadata": {},
   "outputs": [],
   "source": [
    "import example_pkg\n",
    "import numpy as np\n",
    "from matplotlib import pyplot as plt"
   ]
  },
  {
   "cell_type": "markdown",
   "id": "ec5df22f",
   "metadata": {},
   "source": [
    "Call to package function"
   ]
  },
  {
   "cell_type": "code",
   "execution_count": 3,
   "id": "631b8359",
   "metadata": {},
   "outputs": [],
   "source": [
    "theta,p=example_pkg.standard_map_trajectory(1,0,1.3,6000)"
   ]
  },
  {
   "cell_type": "markdown",
   "id": "a781158f",
   "metadata": {},
   "source": [
    "Plot results"
   ]
  },
  {
   "cell_type": "code",
   "execution_count": 2,
   "id": "b8c0330b",
   "metadata": {},
   "outputs": [],
   "source": [
    "wrap2pi=lambda x: np.mod(x+np.pi,2*np.pi)-np.pi\n",
    "\n",
    "plt.plot(wrap2pi(theta),wrap2pi(p),'k.')\n",
    "plt.xlabel(r\"$\\theta$\",fontsize=16)\n",
    "plt.ylabel(r\"$p$\",fontsize=16)\n",
    "plt.tick_params(labelsize=14,direction='in',size=8)"
   ]
  }
 ],
 "metadata": {
  "kernelspec": {
   "display_name": "Python 3 (ipykernel)",
   "language": "python",
   "name": "python3"
  },
  "language_info": {
   "codemirror_mode": {
    "name": "ipython",
    "version": 3
   },
   "file_extension": ".py",
   "mimetype": "text/x-python",
   "name": "python",
   "nbconvert_exporter": "python",
   "pygments_lexer": "ipython3",
   "version": "3.8.12"
  }
 },
 "nbformat": 4,
 "nbformat_minor": 5
}
